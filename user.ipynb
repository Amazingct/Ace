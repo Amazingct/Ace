{
 "cells": [
  {
   "cell_type": "code",
   "execution_count": null,
   "metadata": {},
   "outputs": [],
   "source": [
    "import requests\n",
    "import json\n",
    "\n",
    "# Register a new user\n",
    "def register_user(email, first_name, last_name, phone_number, password):\n",
    "    url = \"http://localhost:80/register\"\n",
    "    data = {\n",
    "        \"email\": email,\n",
    "        \"first_name\": first_name,\n",
    "        \"last_name\": last_name,\n",
    "        \"phone_number\": phone_number,\n",
    "        \"password\": password\n",
    "    }\n",
    "    response = requests.post(url, json=data)\n",
    "    return response.json()\n",
    "\n",
    "# Login a user\n",
    "def login_user(email, password):\n",
    "    url = \"http://localhost:80/login\"\n",
    "    data = {\n",
    "        \"email\": email,\n",
    "        \"password\": password\n",
    "    }\n",
    "    response = requests.post(url, json=data)\n",
    "    \n",
    "    return response.json()\n",
    "\n",
    "# Get or update a user\n",
    "def manage_user(token, method='GET', data=None):\n",
    "    url = f\"http://localhost:80/user\"\n",
    "    headers = {\n",
    "    \"Content-Type\": \"application/json\",\n",
    "    \"Authorization\": f\"Bearer {token}\"\n",
    "    }\n",
    "    if method == 'GET':\n",
    "        response = requests.get(url, headers=headers)\n",
    "    elif method == 'PUT':\n",
    "        response = requests.put(url, headers=headers, json=data)\n",
    "    return response.json()\n",
    "\n"
   ]
  },
  {
   "cell_type": "code",
   "execution_count": null,
   "metadata": {},
   "outputs": [],
   "source": [
    "# Test the functions\n",
    "register_user(\"test1@example.com\", \"Test\", \"User\", \"1234567890\", \"password\")"
   ]
  },
  {
   "cell_type": "code",
   "execution_count": null,
   "metadata": {},
   "outputs": [],
   "source": [
    "user_this = login_user(\"newemail@example.com\", \"password\")\n",
    "user_this"
   ]
  },
  {
   "cell_type": "code",
   "execution_count": null,
   "metadata": {},
   "outputs": [],
   "source": [
    "manage_user(token=user_this[\"token\"])"
   ]
  },
  {
   "cell_type": "code",
   "execution_count": null,
   "metadata": {},
   "outputs": [],
   "source": [
    "data = {\n",
    "    \"email\": \"newemail@example.com\",\n",
    "    \"first_name\": \"NewFirstName\",\n",
    "    \"last_name\": \"NewLastName\",\n",
    "    \"phone_number\": \"1234567890\"\n",
    "}\n",
    "manage_user(token=user_this[\"token\"], method='PUT', data=data)"
   ]
  },
  {
   "cell_type": "code",
   "execution_count": null,
   "metadata": {},
   "outputs": [],
   "source": [
    "url = f\"http://localhost:80//dropbox-auth-start\"\n",
    "headers = {\n",
    "\"Content-Type\": \"application/json\",\n",
    "\"Authorization\": f\"Bearer {user_this['token']}\"\n",
    "}\n",
    "\n",
    "response = requests.get(url, headers=headers)\n",
    "response.json()\n"
   ]
  },
  {
   "cell_type": "code",
   "execution_count": null,
   "metadata": {},
   "outputs": [],
   "source": [
    "code = \"\"\n",
    "url = f\"http://localhost:80/dropbox-auth-finish\"\n",
    "data = {\n",
    "    \"auth_code\":code\n",
    "}\n",
    "response = requests.post(url, headers=headers, json=data)\n",
    "print(response.json())"
   ]
  },
  {
   "cell_type": "code",
   "execution_count": null,
   "metadata": {},
   "outputs": [],
   "source": [
    "manage_user(token=user_this[\"token\"])"
   ]
  },
  {
   "cell_type": "code",
   "execution_count": null,
   "metadata": {},
   "outputs": [],
   "source": [
    "url = \"http://localhost:80/list-files\"\n",
    "data = {\n",
    "    \"folder_path\": \"\",\n",
    "    \"file_types\": [\".png\"]\n",
    "}\n",
    "response = requests.get(url, headers=headers, json=data)\n",
    "print(response.json())\n"
   ]
  },
  {
   "cell_type": "code",
   "execution_count": null,
   "metadata": {},
   "outputs": [],
   "source": [
    "response.json()['files_and_folders']"
   ]
  }
 ],
 "metadata": {
  "kernelspec": {
   "display_name": ".venv",
   "language": "python",
   "name": "python3"
  },
  "language_info": {
   "codemirror_mode": {
    "name": "ipython",
    "version": 3
   },
   "file_extension": ".py",
   "mimetype": "text/x-python",
   "name": "python",
   "nbconvert_exporter": "python",
   "pygments_lexer": "ipython3",
   "version": "3.10.9"
  }
 },
 "nbformat": 4,
 "nbformat_minor": 2
}
