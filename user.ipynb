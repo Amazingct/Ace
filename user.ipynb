{
 "cells": [
  {
   "cell_type": "code",
   "execution_count": 15,
   "metadata": {},
   "outputs": [],
   "source": [
    "import requests\n",
    "import json\n",
    "\n",
    "# Register a new user\n",
    "def register_user(email, first_name, last_name, phone_number, password):\n",
    "    url = \"http://localhost:80/register\"\n",
    "    data = {\n",
    "        \"email\": email,\n",
    "        \"first_name\": first_name,\n",
    "        \"last_name\": last_name,\n",
    "        \"phone_number\": phone_number,\n",
    "        \"password\": password\n",
    "    }\n",
    "    response = requests.post(url, json=data)\n",
    "    return response.json()\n",
    "\n",
    "# Login a user\n",
    "def login_user(email, password):\n",
    "    url = \"http://localhost:80/login\"\n",
    "    data = {\n",
    "        \"email\": email,\n",
    "        \"password\": password\n",
    "    }\n",
    "    response = requests.post(url, json=data)\n",
    "    \n",
    "    return response.json()\n",
    "\n",
    "# Get or update a user\n",
    "def manage_user(token, method='GET', data=None):\n",
    "    url = f\"http://localhost:80/user\"\n",
    "    headers = {\n",
    "    \"Content-Type\": \"application/json\",\n",
    "    \"Authorization\": f\"Bearer {token}\"\n",
    "    }\n",
    "    if method == 'GET':\n",
    "        response = requests.get(url, headers=headers)\n",
    "    elif method == 'PUT':\n",
    "        response = requests.put(url, headers=headers, json=data)\n",
    "    return response.json()\n",
    "\n"
   ]
  },
  {
   "cell_type": "code",
   "execution_count": null,
   "metadata": {},
   "outputs": [],
   "source": [
    "# Test the functions\n",
    "register_user(\"test1@example.com\", \"Test\", \"User\", \"1234567890\", \"password\")"
   ]
  },
  {
   "cell_type": "code",
   "execution_count": 16,
   "metadata": {},
   "outputs": [
    {
     "data": {
      "text/plain": [
       "{'token': 'eyJhbGciOiJIUzI1NiIsInR5cCI6IkpXVCJ9.eyJmcmVzaCI6ZmFsc2UsImlhdCI6MTcxMzY1NjY5OSwianRpIjoiODc4OTc0MzMtYTY3OS00NjhhLWFjNWYtODAxZmNmZWM1NTg2IiwidHlwZSI6ImFjY2VzcyIsInN1YiI6eyJpZCI6IjU0YWY2NTk2LTk4ZmUtNGYxYy04NTc3LTFkNjkxZmQ4MGNkMyIsImVtYWlsIjoiYXlvdXJtaWRheTEyQGdtYWlsLmNvbSIsImZpcnN0X25hbWUiOiJEYW5pZWwiLCJsYXN0X25hbWUiOiIiLCJwaG9uZV9udW1iZXIiOiIiLCJpc19hY3RpdmUiOnRydWUsImNyZWF0ZWRfYXQiOiJTYXQsIDIwIEFwciAyMDI0IDIzOjQyOjU2IEdNVCIsInVwZGF0ZWRfYXQiOiJTYXQsIDIwIEFwciAyMDI0IDIzOjQyOjU2IEdNVCIsInByb3ZpZGVyIjoiZ29vZ2xlIiwicHJvdmlkZXJfaWQiOiIxMDk2OTk2MTE4ODc2Nzk5NTI2MzYifSwibmJmIjoxNzEzNjU2Njk5LCJjc3JmIjoiMjI2MmZhYTMtMzFlNS00OTI1LWJhZjEtZmZjOTUwMDM2ZmM3IiwiZXhwIjoxNzEzNjU3NTk5fQ.SwXgsYhC4UEpsnTprgeLYkAspbbTJWAds-FTtH5PaoY',\n",
       " 'user_id': '54af6596-98fe-4f1c-8577-1d691fd80cd3'}"
      ]
     },
     "execution_count": 16,
     "metadata": {},
     "output_type": "execute_result"
    }
   ],
   "source": [
    "user_this = login_user(\"ayourmiday12@gmail.com\", \"password\")\n",
    "user_this"
   ]
  },
  {
   "cell_type": "code",
   "execution_count": 17,
   "metadata": {},
   "outputs": [
    {
     "data": {
      "text/plain": [
       "{'created_at': 'Sat, 20 Apr 2024 23:42:56 GMT',\n",
       " 'email': 'ayourmiday12@gmail.com',\n",
       " 'first_name': 'Daniel',\n",
       " 'id': '54af6596-98fe-4f1c-8577-1d691fd80cd3',\n",
       " 'is_active': True,\n",
       " 'last_name': '',\n",
       " 'phone_number': '',\n",
       " 'provider': 'google',\n",
       " 'provider_id': '109699611887679952636',\n",
       " 'provider_token': '{\"access_token\": \"ya29.a0Ad52N38q7iS_Qpk09VG47Drw2O5IbIQbgzV8FTNMo0A8FjSM8kb1RqPy3FUX6KptjZa0mnTbQTdRRo7hgbycTo3B_hJV4qfQJiaZj2sxJgJsBotDwmngScCXcLYIH6YPxQz-ek6BJVJpBTiW782ikFek-t60s-n4ep_8aCgYKASsSARISFQHGX2Mim19fHbDPEKIULJkWSxkN6A0171\", \"id_token\": \"eyJhbGciOiJSUzI1NiIsImtpZCI6IjZjZTExYWVjZjllYjE0MDI0YTQ0YmJmZDFiY2Y4YjMyYTEyMjg3ZmEiLCJ0eXAiOiJKV1QifQ.eyJpc3MiOiJodHRwczovL2FjY291bnRzLmdvb2dsZS5jb20iLCJhenAiOiIxOTY5ODEzMzMxNTQtc2RyZHQ0aWhoZDUybXRtcnFkaWxqOGwxbWV2aTFnc3EuYXBwcy5nb29nbGV1c2VyY29udGVudC5jb20iLCJhdWQiOiIxOTY5ODEzMzMxNTQtc2RyZHQ0aWhoZDUybXRtcnFkaWxqOGwxbWV2aTFnc3EuYXBwcy5nb29nbGV1c2VyY29udGVudC5jb20iLCJzdWIiOiIxMDk2OTk2MTE4ODc2Nzk5NTI2MzYiLCJlbWFpbCI6ImF5b3VybWlkYXkxMkBnbWFpbC5jb20iLCJlbWFpbF92ZXJpZmllZCI6dHJ1ZSwiYXRfaGFzaCI6IjBLc3VTa1VfWXVKT0R2MEo5bG9BZHciLCJuYW1lIjoiRGFuaWVsIE9ndW5sb2x1IiwicGljdHVyZSI6Imh0dHBzOi8vbGgzLmdvb2dsZXVzZXJjb250ZW50LmNvbS9hL0FDZzhvY0lOdmhFUkd2MmRsZkZKNDUyVTJ4MENwTFdsSk5LM1Y1NXgtOWNoMHAwaVZEWDI3bThhUEE9czk2LWMiLCJnaXZlbl9uYW1lIjoiRGFuaWVsIiwiZmFtaWx5X25hbWUiOiJPZ3VubG9sdSIsImlhdCI6MTcxMzY1NjU3NSwiZXhwIjoxNzEzNjYwMTc1fQ.bH0u_9ZCSS1VaSUaUbcVZ17-8TlNIgF7e6MEHKuinsxYg4VVIiFYW4rSvnU3uvN6SXGtU8xPtV2Q1Q4UQJHKmK2VKAn4hJnz8WMBIAMDotJRj360OOvuafIP3xMTy-lV_2ZS5MzniDX2znlKNN5JVgs3roFg8XfYjvuU8egSgFbLZFOx2KZIorNH_V7tuQRedKhcOh8LbXLpz942cfpNph2MVgI6usWOcqBIklC_UNBYISnJLeHSpsODfwgkjCAUlOBSKt3cugDHeRlJV-4S4ZJR7GO0HChuDavHnvlv6Bf_OW9hS3fw-Hjtk0ADlFxy2mtpRZzo2tRc3vNWYJXg4g\", \"token_type\": \"Bearer\", \"expires_in\": 3599}',\n",
       " 'updated_at': 'Sat, 20 Apr 2024 23:42:56 GMT'}"
      ]
     },
     "execution_count": 17,
     "metadata": {},
     "output_type": "execute_result"
    }
   ],
   "source": [
    "manage_user(token=user_this[\"token\"])"
   ]
  },
  {
   "cell_type": "code",
   "execution_count": null,
   "metadata": {},
   "outputs": [],
   "source": [
    "data = {\n",
    "    \"email\": \"newemail@example.com\",\n",
    "    \"first_name\": \"NewFirstName\",\n",
    "    \"last_name\": \"NewLastName\",\n",
    "    \"phone_number\": \"1234567890\"\n",
    "}\n",
    "manage_user(token=user_this[\"token\"], method='PUT', data=data)"
   ]
  },
  {
   "cell_type": "code",
   "execution_count": null,
   "metadata": {},
   "outputs": [],
   "source": [
    "url = f\"http://localhost:80//dropbox-auth-start\"\n",
    "headers = {\n",
    "\"Content-Type\": \"application/json\",\n",
    "\"Authorization\": f\"Bearer {user_this['token']}\"\n",
    "}\n",
    "\n",
    "response = requests.get(url, headers=headers)\n",
    "response.json()\n"
   ]
  },
  {
   "cell_type": "code",
   "execution_count": null,
   "metadata": {},
   "outputs": [],
   "source": [
    "code = \"\"\n",
    "url = f\"http://localhost:80/dropbox-auth-finish\"\n",
    "data = {\n",
    "    \"auth_code\":code\n",
    "}\n",
    "response = requests.post(url, headers=headers, json=data)\n",
    "print(response.json())"
   ]
  },
  {
   "cell_type": "code",
   "execution_count": null,
   "metadata": {},
   "outputs": [],
   "source": [
    "manage_user(token=user_this[\"token\"])"
   ]
  },
  {
   "cell_type": "code",
   "execution_count": null,
   "metadata": {},
   "outputs": [],
   "source": [
    "url = \"http://localhost:80/list-files\"\n",
    "data = {\n",
    "    \"folder_path\": \"\",\n",
    "    \"file_types\": [\".png\"]\n",
    "}\n",
    "response = requests.get(url, headers=headers, json=data)\n",
    "print(response.json())\n"
   ]
  },
  {
   "cell_type": "code",
   "execution_count": null,
   "metadata": {},
   "outputs": [],
   "source": [
    "response.json()['files_and_folders']"
   ]
  }
 ],
 "metadata": {
  "kernelspec": {
   "display_name": ".venv",
   "language": "python",
   "name": "python3"
  },
  "language_info": {
   "codemirror_mode": {
    "name": "ipython",
    "version": 3
   },
   "file_extension": ".py",
   "mimetype": "text/x-python",
   "name": "python",
   "nbconvert_exporter": "python",
   "pygments_lexer": "ipython3",
   "version": "3.10.9"
  }
 },
 "nbformat": 4,
 "nbformat_minor": 2
}
